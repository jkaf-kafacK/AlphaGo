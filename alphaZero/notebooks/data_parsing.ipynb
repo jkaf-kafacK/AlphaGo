{
 "cells": [
  {
   "attachments": {},
   "cell_type": "markdown",
   "metadata": {},
   "source": [
    "# Data Parsing"
   ]
  },
  {
   "attachments": {},
   "cell_type": "markdown",
   "metadata": {},
   "source": [
    "## import data:"
   ]
  },
  {
   "cell_type": "code",
   "execution_count": 2,
   "metadata": {},
   "outputs": [],
   "source": [
    "import json\n",
    "import numpy as np \n",
    "\n",
    "PARSE = True\n",
    "TEST_PARSE = True"
   ]
  },
  {
   "cell_type": "code",
   "execution_count": 3,
   "metadata": {},
   "outputs": [],
   "source": [
    "# import data\n",
    "\n",
    "with open(\"../data/samples-9x9.json\") as json_file:\n",
    "    data = json.load(json_file)\n",
    "\n",
    "# data [list]: elements [dict]=> keys ::> ['depth', 'list_of_moves', 'black_stones', 'white_stones', 'rollouts', 'black_wins', 'black_points', 'white_wins', 'white_points']"
   ]
  },
  {
   "attachments": {},
   "cell_type": "markdown",
   "metadata": {},
   "source": [
    "## utils:"
   ]
  },
  {
   "cell_type": "code",
   "execution_count": 4,
   "metadata": {},
   "outputs": [],
   "source": [
    "def name_to_coord(s):\n",
    "    indexLetters = {'A': 0, 'B': 1, 'C': 2, 'D': 3,\n",
    "                      'E': 4, 'F': 5, 'G': 6, 'H': 7, 'J': 8}\n",
    "    if s == 'PASS':\n",
    "        return (-1, -1)\n",
    "\n",
    "    col = indexLetters[s[0]]\n",
    "    lin = int(s[1:]) - 1\n",
    "    return (col, lin)\n",
    "\n",
    "def flatten(coord):\n",
    "        if coord == (-1, -1):\n",
    "            return -1\n",
    "        return 9 * coord[1] + coord[0]\n",
    "\n",
    "def name_to_flat(s):\n",
    "    return flatten(name_to_coord(s))"
   ]
  },
  {
   "attachments": {},
   "cell_type": "markdown",
   "metadata": {},
   "source": [
    "## Data Parsing"
   ]
  },
  {
   "cell_type": "code",
   "execution_count": 5,
   "metadata": {},
   "outputs": [
    {
     "name": "stdout",
     "output_type": "stream",
     "text": [
      "{'depth': 29, 'list_of_moves': ['E6', 'F4', 'C5', 'C3', 'G7', 'E4', 'D6', 'G5', 'H6', 'H5', 'F7', 'G6', 'J7', 'B4', 'J5', 'B6', 'J4', 'B5', 'F5', 'H3', 'D8', 'B8', 'J3', 'H4', 'D4', 'D3', 'H2', 'C4', 'G2'], 'black_stones': ['D8', 'F7', 'G7', 'J7', 'D6', 'E6', 'H6', 'C5', 'F5', 'J5', 'D4', 'J4', 'J3', 'G2', 'H2'], 'white_stones': ['B8', 'B6', 'G6', 'B5', 'G5', 'H5', 'B4', 'C4', 'E4', 'F4', 'H4', 'C3', 'D3', 'H3'], 'rollouts': 100, 'black_wins': 63, 'black_points': 381.0, 'white_wins': 37, 'white_points': 229.0}\n",
      "board hist shape (29, 9, 9) True\n",
      "plabels shape (29, 1)\n",
      "vlabels shape (29, 1)\n",
      "parsing successful\n",
      "expected depth 29 actual depth: 29\n"
     ]
    }
   ],
   "source": [
    "import sys\n",
    "sys.path.append('../bibli/go_starter_pack/')\n",
    "from Goban import Board\n",
    "\n",
    "def parse_game_record(record): # TODO integrate goban\n",
    "    # record keys =>['depth', 'list_of_moves', 'black_stones', 'white_stones', 'rollouts', 'black_wins', 'black_points', 'white_wins', 'white_points']\n",
    "    \n",
    "    # get black and white win_percent in record\n",
    "    rolls = record['rollouts']\n",
    "    b_wp = record['black_wins'] / rolls\n",
    "    w_wp = record['white_wins'] / rolls\n",
    "    record_depth = record['depth']\n",
    "    \n",
    "    # init board array and board/win percent history arrray\n",
    "    gboard = Board()\n",
    "    board_hist = np.array([gboard._board])\n",
    "    vlabels = None\n",
    "    plabels = None\n",
    "    \n",
    "    # flatten moves\n",
    "    flats = [name_to_flat(m) for m in record['list_of_moves'] ]\n",
    "    b_flats = [name_to_flat(m) for m in record['black_stones'] ]\n",
    "    w_flats = [name_to_flat(m) for m in record['white_stones'] ]\n",
    " \n",
    "    # parse move list into the board \n",
    "    depth = 0\n",
    "    for move in flats:\n",
    "        # print(gboard._stringUnionFind)\n",
    "        # print(move) \n",
    "        # print(depth)\n",
    "        try:\n",
    "            gboard.push(move)\n",
    "        except AssertionError:\n",
    "            break \n",
    "         \n",
    "        if move in b_flats:\n",
    "            wp = w_wp\n",
    "        elif move in w_flats:\n",
    "            wp = b_wp\n",
    "        else :\n",
    "            break\n",
    "\n",
    "        if depth==0:\n",
    "            vlabels = np.array([wp])\n",
    "            plabels = np.array([move])\n",
    "        else:\n",
    "            vlabels = np.vstack((vlabels, wp))\n",
    "            plabels = np.vstack((plabels, move))\n",
    "        \n",
    "        if depth != record_depth-1:\n",
    "            board_hist = np.vstack((board_hist, gboard._board))\n",
    "        \n",
    "        depth += 1\n",
    "        \n",
    "    \n",
    "    if depth != record_depth:\n",
    "        board_hist, plabels, vlabels = np.array([]), np.array([]), np.array([])\n",
    "    else:\n",
    "        board_hist = board_hist.reshape((-1,9,9))\n",
    "\n",
    "\n",
    "    return board_hist, plabels, vlabels, depth\n",
    "\n",
    "\n",
    "# record = data[420]\n",
    "record = data[-1]\n",
    "print(record)\n",
    "if TEST_PARSE:\n",
    "    board_hist, plabels, vlabels, depth = parse_game_record(record)\n",
    "    print('board hist shape', board_hist.shape, np.any(board_hist))\n",
    "    print('plabels shape', plabels.shape)\n",
    "    print('vlabels shape', vlabels.shape)\n",
    "    if len(board_hist) > 0:\n",
    "        print('parsing successful')\n",
    "        print('expected depth', depth, 'actual depth:', board_hist.shape[0])\n",
    "    else:\n",
    "        print('parsing aborted')\n",
    "        print('expected depth', depth, 'actual depth:', board_hist.shape[0])\n",
    "        "
   ]
  },
  {
   "cell_type": "code",
   "execution_count": 6,
   "metadata": {},
   "outputs": [
    {
     "name": "stderr",
     "output_type": "stream",
     "text": [
      "100%|██████████| 41562/41562 [03:19<00:00, 208.21it/s]"
     ]
    },
    {
     "name": "stdout",
     "output_type": "stream",
     "text": [
      "26781\n"
     ]
    },
    {
     "name": "stderr",
     "output_type": "stream",
     "text": [
      "\n"
     ]
    }
   ],
   "source": [
    "from tqdm import tqdm\n",
    "\n",
    "def parse_data(data, view_bar=True): # TODO correct bug in board.push\n",
    "    record = data[0]\n",
    "    board_hist, r_plabels, r_vlabels, _ = parse_game_record(record)\n",
    "    count = 1\n",
    "    board_data = np.array(board_hist)\n",
    "    plabels = np.array(r_plabels)\n",
    "    vlabels = np.array(r_vlabels)\n",
    "    \n",
    "    iterator = tqdm(data[1:]) if view_bar else data[1:] \n",
    "    for record in iterator:\n",
    "        board_hist, r_plabels, r_vlabels, _ = parse_game_record(record)\n",
    "        if len(board_hist) > 0:\n",
    "            count+=1\n",
    "            board_data = np.vstack((board_data, board_hist))\n",
    "            plabels = np.vstack((plabels, r_plabels))\n",
    "            vlabels = np.vstack((vlabels, r_vlabels))\n",
    "            \n",
    "    \n",
    "    return board_data, plabels, vlabels, count\n",
    "\n",
    "# TODO check if output is in correct format\n",
    "if PARSE:\n",
    "    board_data, plabels, vlabels, count = parse_data(data)\n",
    "    print(count)"
   ]
  },
  {
   "cell_type": "code",
   "execution_count": 7,
   "metadata": {},
   "outputs": [
    {
     "name": "stdout",
     "output_type": "stream",
     "text": [
      "[[0 0 0 0 0 0 0 0 0]\n",
      " [0 0 0 0 0 0 0 0 0]\n",
      " [0 0 0 0 0 0 0 0 0]\n",
      " [0 0 0 0 0 0 0 0 0]\n",
      " [0 0 0 0 0 0 0 0 0]\n",
      " [0 0 1 0 0 0 0 0 0]\n",
      " [0 0 0 0 0 0 0 0 0]\n",
      " [0 0 0 0 0 0 0 0 0]\n",
      " [0 0 0 0 0 0 0 0 0]]\n"
     ]
    }
   ],
   "source": [
    "liste_board =[]\n",
    "# print('board data', board_data[4], \"plabels\", plabels[4])\n",
    "# print(\"value label\",vlabels)\n",
    "\n",
    "print(np.where(board_data[2] !=2,board_data[2],0))\n"
   ]
  },
  {
   "cell_type": "code",
   "execution_count": 77,
   "metadata": {},
   "outputs": [
    {
     "name": "stdout",
     "output_type": "stream",
     "text": [
      "n_boards 3\n",
      "result data 0 [[1. 1. 1. 1. 1. 1. 1. 1. 1.]\n",
      " [1. 1. 1. 1. 1. 1. 1. 1. 1.]\n",
      " [1. 1. 1. 1. 1. 1. 1. 1. 1.]\n",
      " [1. 1. 1. 1. 1. 1. 1. 1. 1.]\n",
      " [1. 1. 1. 1. 1. 1. 1. 1. 1.]\n",
      " [1. 1. 1. 1. 1. 1. 1. 1. 1.]\n",
      " [1. 1. 1. 1. 1. 1. 1. 1. 1.]\n",
      " [1. 1. 1. 1. 1. 1. 1. 1. 1.]\n",
      " [1. 1. 1. 1. 1. 1. 1. 1. 1.]]\n"
     ]
    }
   ],
   "source": [
    "from tqdm import tqdm\n",
    "import time \n",
    "\n",
    "def separate_board(board):\n",
    "    black = np.vectorize(lambda x: 0 if x==2 else x)(board) \n",
    "    white = np.vectorize(lambda x: 0 if x==1 else int(x/2))(board)\n",
    "    return black, white\n",
    "\n",
    "list_players = []\n",
    "for i in range(len(board_data[:10])//2):\n",
    "    list_players.append(0)\n",
    "    list_players.append(1)\n",
    "\n",
    "\n",
    "def boards_to_inputs(board_data, players_list, n_channels=7):\n",
    "    # output 19 * 19 * 48\n",
    "    assert n_channels%2 == 1\n",
    "    n_boards = n_channels//2\n",
    "    print(\"n_boards\", n_boards)\n",
    "    inputs = np.zeros((len(board_data), n_channels,9,9))\n",
    "    # stone colours - player stone 1 - opponent stone 2 - empty\n",
    "    \n",
    "    #inter_board = np.vstack((inter_board, np.ones((2,9,9))))\n",
    "    for i in range(len(board_data)):\n",
    "        inter_board = np.zeros((n_channels, 9, 9))\n",
    "        c = 0\n",
    "        for j in range(0, n_boards+1): \n",
    "            if c == 6: \n",
    "                inter_board[c] =  np.zeros((1,9,9)) if list_players[i] == 0 else np.ones((1,9,9))\n",
    "                break; \n",
    "                # black is one white is 2\n",
    "            if i-j >= 0:\n",
    "                black, white = separate_board(board_data[i-j]) \n",
    "            else: \n",
    "                black, white = separate_board(np.zeros((1,9,9)))\n",
    "            inter_board[c] =  black.reshape((1,9,9))\n",
    "            inter_board[c+1] =  white.reshape((1,9,9))\n",
    "            c += 2            \n",
    "        inputs[i]= inter_board\n",
    "    return inputs\n",
    "#inputs = boards_to_inputs(board_data[:5], n_channels=7 )\n",
    "result = boards_to_inputs(board_data[:4], list_players, 7)\n",
    "print(\"result data 0\", result[1][6])\n",
    "\n",
    "#print(\"inter board shape\", inputs)\n"
   ]
  },
  {
   "cell_type": "code",
   "execution_count": 59,
   "metadata": {},
   "outputs": [
    {
     "name": "stdout",
     "output_type": "stream",
     "text": [
      "board data [[[0 0 0 ... 0 0 0]\n",
      "  [0 0 0 ... 0 0 0]\n",
      "  [0 0 0 ... 0 0 0]\n",
      "  ...\n",
      "  [0 0 0 ... 0 0 0]\n",
      "  [0 0 0 ... 0 0 0]\n",
      "  [0 0 0 ... 0 0 0]]\n",
      "\n",
      " [[0 0 0 ... 0 0 0]\n",
      "  [0 0 0 ... 0 0 0]\n",
      "  [0 0 0 ... 0 0 0]\n",
      "  ...\n",
      "  [0 0 0 ... 0 0 0]\n",
      "  [0 0 0 ... 0 0 0]\n",
      "  [0 0 0 ... 0 0 0]]\n",
      "\n",
      " [[0 0 0 ... 0 0 0]\n",
      "  [0 0 0 ... 0 0 0]\n",
      "  [0 0 0 ... 2 0 0]\n",
      "  ...\n",
      "  [0 0 0 ... 0 0 0]\n",
      "  [0 0 0 ... 0 0 0]\n",
      "  [0 0 0 ... 0 0 0]]\n",
      "\n",
      " ...\n",
      "\n",
      " [[0 0 0 ... 0 0 0]\n",
      "  [0 0 0 ... 0 0 0]\n",
      "  [0 0 2 ... 0 2 1]\n",
      "  ...\n",
      "  [0 0 0 ... 1 0 1]\n",
      "  [0 2 0 ... 0 0 0]\n",
      "  [0 0 0 ... 0 0 0]]\n",
      "\n",
      " [[0 0 0 ... 0 0 0]\n",
      "  [0 0 0 ... 0 1 0]\n",
      "  [0 0 2 ... 0 2 1]\n",
      "  ...\n",
      "  [0 0 0 ... 1 0 1]\n",
      "  [0 2 0 ... 0 0 0]\n",
      "  [0 0 0 ... 0 0 0]]\n",
      "\n",
      " [[0 0 0 ... 0 0 0]\n",
      "  [0 0 0 ... 0 1 0]\n",
      "  [0 0 2 ... 0 2 1]\n",
      "  ...\n",
      "  [0 0 0 ... 1 0 1]\n",
      "  [0 2 0 ... 0 0 0]\n",
      "  [0 0 0 ... 0 0 0]]]\n"
     ]
    }
   ],
   "source": [
    "print(\"board data\", board_data)"
   ]
  },
  {
   "cell_type": "code",
   "execution_count": null,
   "metadata": {},
   "outputs": [
    {
     "name": "stdout",
     "output_type": "stream",
     "text": [
      "True\n"
     ]
    }
   ],
   "source": [
    "a = np.array([0, 0, 0, 0, 0])\n",
    "\n",
    "print(not np.any(a))"
   ]
  },
  {
   "cell_type": "code",
   "execution_count": null,
   "metadata": {},
   "outputs": [
    {
     "name": "stdout",
     "output_type": "stream",
     "text": [
      "Saving\n",
      "torch.float32 torch.float32 torch.float32\n"
     ]
    }
   ],
   "source": [
    "import torch\n",
    "print('Saving')\n",
    "board_save, plabels_save, vlabels_save = board_data, plabels, vlabels\n",
    "\n",
    "\n",
    "b_t = torch.FloatTensor(board_save).to(torch.float)\n",
    "p_t = torch.FloatTensor(plabels_save).to(torch.float)\n",
    "v_t = torch.FloatTensor(vlabels_save).to(torch.float)\n",
    "\n",
    "print(b_t.dtype, p_t.dtype, v_t.dtype)\n",
    "torch.save(b_t, 'board_data.pt')\n",
    "torch.save(p_t, 'plabels.pt')\n",
    "torch.save(v_t, 'vlabels.pt')"
   ]
  },
  {
   "cell_type": "code",
   "execution_count": null,
   "metadata": {},
   "outputs": [
    {
     "name": "stdout",
     "output_type": "stream",
     "text": [
      "torch.float32 torch.int32 torch.int32\n"
     ]
    }
   ],
   "source": [
    "print(b_t.dtype, p_t.dtype, v_t.dtype)\n"
   ]
  }
 ],
 "metadata": {
  "kernelspec": {
   "display_name": "Python 3",
   "language": "python",
   "name": "python3"
  },
  "language_info": {
   "codemirror_mode": {
    "name": "ipython",
    "version": 3
   },
   "file_extension": ".py",
   "mimetype": "text/x-python",
   "name": "python",
   "nbconvert_exporter": "python",
   "pygments_lexer": "ipython3",
   "version": "3.10.6"
  },
  "orig_nbformat": 4,
  "vscode": {
   "interpreter": {
    "hash": "916dbcbb3f70747c44a77c7bcd40155683ae19c65e1c03b4aa3499c5328201f1"
   }
  }
 },
 "nbformat": 4,
 "nbformat_minor": 2
}
